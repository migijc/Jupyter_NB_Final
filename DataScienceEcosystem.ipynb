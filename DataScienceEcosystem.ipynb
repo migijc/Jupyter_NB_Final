{
 "cells": [
  {
   "cell_type": "markdown",
   "id": "8201b09b-e42a-4c8a-8441-2d4256fe9e6b",
   "metadata": {
    "tags": []
   },
   "source": [
    "# Data Science Tools & Ecosystems"
   ]
  },
  {
   "cell_type": "markdown",
   "id": "00b047b1-ece9-48a2-b1fe-bda5176890d8",
   "metadata": {
    "tags": []
   },
   "source": [
    "In this notebook, Data Science Tools and Ecosystem are summarized.\n"
   ]
  },
  {
   "cell_type": "markdown",
   "id": "a8bc08ae-ea40-4d3e-a7ae-73642691376a",
   "metadata": {},
   "source": [
    "**Objectives**\n",
    "- Learn SQL and R\n",
    "- Dig in deeper into ML and Deep Learning\n",
    "- Learn basic GIT commands such as git clone & git push"
   ]
  },
  {
   "cell_type": "markdown",
   "id": "96578251-c086-4b18-81ff-0bf16c63e205",
   "metadata": {
    "tags": []
   },
   "source": [
    "Some of the popular languages that Data Scientists use are:\n",
    "1. Python\n",
    "2. R\n",
    "3. Java\n",
    "4. SQL\n",
    "5. Plotly"
   ]
  },
  {
   "cell_type": "markdown",
   "id": "5af82a3e-ce51-4c3b-8385-d437c083049d",
   "metadata": {},
   "source": [
    "Some of the commonly used libraries used by Data Scientists include:\n",
    "1. Plotly\n",
    "2. Matplotlib\n",
    "3. Seaborn\n"
   ]
  },
  {
   "cell_type": "markdown",
   "id": "85dc6843-b8f4-4955-a91a-ca90128c5a7f",
   "metadata": {
    "tags": []
   },
   "source": [
    "| Data Science Tools |\n",
    "|--------------------|\n",
    "| Jupyter            |\n",
    "| Rstudio            |\n",
    "| VS Code            |\n"
   ]
  },
  {
   "cell_type": "markdown",
   "id": "3ae41ef3-62e6-42c4-85a3-91d94f7b6dc4",
   "metadata": {},
   "source": [
    "### Below are a few examples of evaluating arithmetic expressions in Python"
   ]
  },
  {
   "cell_type": "code",
   "execution_count": 30,
   "id": "7c371c70-465a-4247-a118-e5f29c790edc",
   "metadata": {
    "tags": []
   },
   "outputs": [
    {
     "data": {
      "text/plain": [
       "17"
      ]
     },
     "execution_count": 30,
     "metadata": {},
     "output_type": "execute_result"
    }
   ],
   "source": [
    "#This a simple arithmetic expression to mutiply then add integers\n",
    "(3*4)+5\n",
    "\n"
   ]
  },
  {
   "cell_type": "code",
   "execution_count": 31,
   "id": "95d7d4e0-a7d3-454e-aa58-1f5623f879da",
   "metadata": {
    "tags": []
   },
   "outputs": [
    {
     "data": {
      "text/plain": [
       "3.3333333333333335"
      ]
     },
     "execution_count": 31,
     "metadata": {},
     "output_type": "execute_result"
    }
   ],
   "source": [
    "#This will convert 200 minutes to hours by diving by 60\n",
    "200/60\n"
   ]
  },
  {
   "cell_type": "markdown",
   "id": "f9d9442a-50e6-451e-b0ab-78366cccefec",
   "metadata": {},
   "source": [
    "## *Author*\n",
    "Miguel Gil"
   ]
  }
 ],
 "metadata": {
  "kernelspec": {
   "display_name": "Python",
   "language": "python",
   "name": "conda-env-python-py"
  },
  "language_info": {
   "codemirror_mode": {
    "name": "ipython",
    "version": 3
   },
   "file_extension": ".py",
   "mimetype": "text/x-python",
   "name": "python",
   "nbconvert_exporter": "python",
   "pygments_lexer": "ipython3",
   "version": "3.7.12"
  }
 },
 "nbformat": 4,
 "nbformat_minor": 5
}
